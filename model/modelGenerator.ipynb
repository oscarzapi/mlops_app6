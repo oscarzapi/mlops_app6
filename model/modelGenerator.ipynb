{
 "cells": [
  {
   "cell_type": "code",
   "execution_count": 1,
   "id": "53473283",
   "metadata": {},
   "outputs": [],
   "source": [
    "import pandas as pd\n",
    "import numpy as np"
   ]
  },
  {
   "cell_type": "code",
   "execution_count": 2,
   "id": "f2c92fd8",
   "metadata": {},
   "outputs": [],
   "source": [
    "data = pd.read_csv('Train_Loan_Home.csv')"
   ]
  },
  {
   "cell_type": "code",
   "execution_count": 3,
   "id": "603403d8",
   "metadata": {},
   "outputs": [
    {
     "data": {
      "text/html": [
       "<div>\n",
       "<style scoped>\n",
       "    .dataframe tbody tr th:only-of-type {\n",
       "        vertical-align: middle;\n",
       "    }\n",
       "\n",
       "    .dataframe tbody tr th {\n",
       "        vertical-align: top;\n",
       "    }\n",
       "\n",
       "    .dataframe thead th {\n",
       "        text-align: right;\n",
       "    }\n",
       "</style>\n",
       "<table border=\"1\" class=\"dataframe\">\n",
       "  <thead>\n",
       "    <tr style=\"text-align: right;\">\n",
       "      <th></th>\n",
       "      <th>Loan_ID</th>\n",
       "      <th>Gender</th>\n",
       "      <th>Married</th>\n",
       "      <th>Dependents</th>\n",
       "      <th>Education</th>\n",
       "      <th>Self_Employed</th>\n",
       "      <th>ApplicantIncome</th>\n",
       "      <th>CoapplicantIncome</th>\n",
       "      <th>LoanAmount</th>\n",
       "      <th>Loan_Amount_Term</th>\n",
       "      <th>Credit_History</th>\n",
       "      <th>Property_Area</th>\n",
       "      <th>Loan_Status</th>\n",
       "    </tr>\n",
       "  </thead>\n",
       "  <tbody>\n",
       "    <tr>\n",
       "      <th>0</th>\n",
       "      <td>LP001002</td>\n",
       "      <td>Male</td>\n",
       "      <td>No</td>\n",
       "      <td>0</td>\n",
       "      <td>Graduate</td>\n",
       "      <td>No</td>\n",
       "      <td>5849</td>\n",
       "      <td>0.0</td>\n",
       "      <td>NaN</td>\n",
       "      <td>360.0</td>\n",
       "      <td>1.0</td>\n",
       "      <td>Urban</td>\n",
       "      <td>Y</td>\n",
       "    </tr>\n",
       "    <tr>\n",
       "      <th>1</th>\n",
       "      <td>LP001003</td>\n",
       "      <td>Male</td>\n",
       "      <td>Yes</td>\n",
       "      <td>1</td>\n",
       "      <td>Graduate</td>\n",
       "      <td>No</td>\n",
       "      <td>4583</td>\n",
       "      <td>1508.0</td>\n",
       "      <td>128.0</td>\n",
       "      <td>360.0</td>\n",
       "      <td>1.0</td>\n",
       "      <td>Rural</td>\n",
       "      <td>N</td>\n",
       "    </tr>\n",
       "    <tr>\n",
       "      <th>2</th>\n",
       "      <td>LP001005</td>\n",
       "      <td>Male</td>\n",
       "      <td>Yes</td>\n",
       "      <td>0</td>\n",
       "      <td>Graduate</td>\n",
       "      <td>Yes</td>\n",
       "      <td>3000</td>\n",
       "      <td>0.0</td>\n",
       "      <td>66.0</td>\n",
       "      <td>360.0</td>\n",
       "      <td>1.0</td>\n",
       "      <td>Urban</td>\n",
       "      <td>Y</td>\n",
       "    </tr>\n",
       "    <tr>\n",
       "      <th>3</th>\n",
       "      <td>LP001006</td>\n",
       "      <td>Male</td>\n",
       "      <td>Yes</td>\n",
       "      <td>0</td>\n",
       "      <td>Not Graduate</td>\n",
       "      <td>No</td>\n",
       "      <td>2583</td>\n",
       "      <td>2358.0</td>\n",
       "      <td>120.0</td>\n",
       "      <td>360.0</td>\n",
       "      <td>1.0</td>\n",
       "      <td>Urban</td>\n",
       "      <td>Y</td>\n",
       "    </tr>\n",
       "    <tr>\n",
       "      <th>4</th>\n",
       "      <td>LP001008</td>\n",
       "      <td>Male</td>\n",
       "      <td>No</td>\n",
       "      <td>0</td>\n",
       "      <td>Graduate</td>\n",
       "      <td>No</td>\n",
       "      <td>6000</td>\n",
       "      <td>0.0</td>\n",
       "      <td>141.0</td>\n",
       "      <td>360.0</td>\n",
       "      <td>1.0</td>\n",
       "      <td>Urban</td>\n",
       "      <td>Y</td>\n",
       "    </tr>\n",
       "  </tbody>\n",
       "</table>\n",
       "</div>"
      ],
      "text/plain": [
       "    Loan_ID Gender Married Dependents     Education Self_Employed  \\\n",
       "0  LP001002   Male      No          0      Graduate            No   \n",
       "1  LP001003   Male     Yes          1      Graduate            No   \n",
       "2  LP001005   Male     Yes          0      Graduate           Yes   \n",
       "3  LP001006   Male     Yes          0  Not Graduate            No   \n",
       "4  LP001008   Male      No          0      Graduate            No   \n",
       "\n",
       "   ApplicantIncome  CoapplicantIncome  LoanAmount  Loan_Amount_Term  \\\n",
       "0             5849                0.0         NaN             360.0   \n",
       "1             4583             1508.0       128.0             360.0   \n",
       "2             3000                0.0        66.0             360.0   \n",
       "3             2583             2358.0       120.0             360.0   \n",
       "4             6000                0.0       141.0             360.0   \n",
       "\n",
       "   Credit_History Property_Area Loan_Status  \n",
       "0             1.0         Urban           Y  \n",
       "1             1.0         Rural           N  \n",
       "2             1.0         Urban           Y  \n",
       "3             1.0         Urban           Y  \n",
       "4             1.0         Urban           Y  "
      ]
     },
     "execution_count": 3,
     "metadata": {},
     "output_type": "execute_result"
    }
   ],
   "source": [
    "data.head()"
   ]
  },
  {
   "cell_type": "code",
   "execution_count": 4,
   "id": "0fe61ec0",
   "metadata": {},
   "outputs": [],
   "source": [
    "columnsX = data.columns[1:-1]\n",
    "columnsY = data.columns[-1]"
   ]
  },
  {
   "cell_type": "code",
   "execution_count": 6,
   "id": "33e265da",
   "metadata": {},
   "outputs": [
    {
     "data": {
      "text/plain": [
       "'Loan_Status'"
      ]
     },
     "execution_count": 6,
     "metadata": {},
     "output_type": "execute_result"
    }
   ],
   "source": [
    "columnsY"
   ]
  },
  {
   "cell_type": "code",
   "execution_count": 14,
   "id": "27b27f2f",
   "metadata": {},
   "outputs": [],
   "source": [
    "catCol = ['Gender','Married','Education','Self_Employed','Property_Area','Dependents']\n",
    "numWithScalingCol = ['ApplicantIncome','CoapplicantIncome','LoanAmount','Loan_Amount_Term']\n",
    "numCol = ['Credit_History']"
   ]
  },
  {
   "cell_type": "code",
   "execution_count": 15,
   "id": "555b81cd",
   "metadata": {},
   "outputs": [],
   "source": [
    "from sklearn.pipeline import Pipeline\n",
    "from sklearn.compose import ColumnTransformer\n",
    "from sklearn.impute import SimpleImputer\n",
    "from sklearn.preprocessing import StandardScaler, OneHotEncoder\n",
    "from sklearn import ensemble"
   ]
  },
  {
   "cell_type": "code",
   "execution_count": 16,
   "id": "66532e04",
   "metadata": {},
   "outputs": [
    {
     "data": {
      "text/plain": [
       "Loan_ID               0\n",
       "Gender               13\n",
       "Married               3\n",
       "Dependents           15\n",
       "Education             0\n",
       "Self_Employed        32\n",
       "ApplicantIncome       0\n",
       "CoapplicantIncome     0\n",
       "LoanAmount           22\n",
       "Loan_Amount_Term     14\n",
       "Credit_History       50\n",
       "Property_Area         0\n",
       "Loan_Status           0\n",
       "dtype: int64"
      ]
     },
     "execution_count": 16,
     "metadata": {},
     "output_type": "execute_result"
    }
   ],
   "source": [
    "data.isnull().sum()"
   ]
  },
  {
   "cell_type": "code",
   "execution_count": 17,
   "id": "af1d578f",
   "metadata": {},
   "outputs": [],
   "source": [
    "numeric_transformer_scaling = Pipeline(steps=[('imputer', SimpleImputer(strategy='median')), ('scaler', StandardScaler())])\n",
    "numeric_transformer = Pipeline(steps=[('imputer', SimpleImputer(strategy='constant', fill_value=99))])\n",
    "categorical_transformer = Pipeline(steps=[('imputer', SimpleImputer(strategy='constant', fill_value='missing')), ('onehot', OneHotEncoder(handle_unknown='ignore'))])\n",
    "\n",
    "preprocessor = ColumnTransformer(transformers=[\n",
    "    ('num', numeric_transformer_scaling, numWithScalingCol),\n",
    "    ('num2', numeric_transformer, numCol),\n",
    "    ('cat', categorical_transformer, catCol)\n",
    "])"
   ]
  },
  {
   "cell_type": "code",
   "execution_count": 18,
   "id": "05d22774",
   "metadata": {},
   "outputs": [],
   "source": [
    "modelPipeline = Pipeline(steps=[('preprocessor', preprocessor),\n",
    "                                ('classifier', ensemble.RandomForestClassifier())])"
   ]
  },
  {
   "cell_type": "code",
   "execution_count": 19,
   "id": "0e874ea3",
   "metadata": {},
   "outputs": [
    {
     "data": {
      "text/plain": [
       "Pipeline(steps=[('preprocessor',\n",
       "                 ColumnTransformer(transformers=[('num',\n",
       "                                                  Pipeline(steps=[('imputer',\n",
       "                                                                   SimpleImputer(strategy='median')),\n",
       "                                                                  ('scaler',\n",
       "                                                                   StandardScaler())]),\n",
       "                                                  ['ApplicantIncome',\n",
       "                                                   'CoapplicantIncome',\n",
       "                                                   'LoanAmount',\n",
       "                                                   'Loan_Amount_Term']),\n",
       "                                                 ('num2',\n",
       "                                                  Pipeline(steps=[('imputer',\n",
       "                                                                   SimpleImputer(fill_value=99,\n",
       "                                                                                 strategy='constant'))]),\n",
       "                                                  ['Credit_History']),\n",
       "                                                 ('cat',\n",
       "                                                  Pipeline(steps=[('imputer',\n",
       "                                                                   SimpleImputer(fill_value='missing',\n",
       "                                                                                 strategy='constant')),\n",
       "                                                                  ('onehot',\n",
       "                                                                   OneHotEncoder(handle_unknown='ignore'))]),\n",
       "                                                  ['Gender', 'Married',\n",
       "                                                   'Education', 'Self_Employed',\n",
       "                                                   'Property_Area',\n",
       "                                                   'Dependents'])])),\n",
       "                ('classifier', RandomForestClassifier())])"
      ]
     },
     "execution_count": 19,
     "metadata": {},
     "output_type": "execute_result"
    }
   ],
   "source": [
    "modelPipeline.fit(data[columnsX], data[columnsY])"
   ]
  },
  {
   "cell_type": "code",
   "execution_count": 20,
   "id": "9d9a35f2",
   "metadata": {},
   "outputs": [],
   "source": [
    "scores = modelPipeline.predict_proba(data[columnsX])[:,-1]"
   ]
  },
  {
   "cell_type": "code",
   "execution_count": 21,
   "id": "c6a46dca",
   "metadata": {},
   "outputs": [
    {
     "data": {
      "text/plain": [
       "array([0.96, 0.3 , 0.93, 0.93, 0.99, 0.94, 0.91, 0.08, 0.91, 0.14, 0.93,\n",
       "       0.91, 0.91, 0.27, 0.85, 0.97, 0.86, 0.06, 0.22, 0.92, 0.04, 0.94,\n",
       "       0.12, 0.08, 0.26, 0.92, 1.  , 0.91, 0.17, 0.93, 0.22, 0.33, 0.34,\n",
       "       0.99, 0.24, 0.96, 0.05, 1.  , 0.84, 0.99, 0.28, 0.93, 0.91, 1.  ,\n",
       "       0.79, 0.97, 0.9 , 0.95, 0.05, 0.9 , 0.98, 0.98, 0.37, 0.23, 0.07,\n",
       "       0.99, 0.99, 0.27, 0.94, 0.92, 0.95, 0.92, 0.12, 0.03, 0.02, 0.34,\n",
       "       0.06, 0.88, 0.82, 0.06, 0.91, 0.91, 0.95, 0.19, 0.96, 0.19, 0.4 ,\n",
       "       0.2 , 0.08, 0.86, 0.93, 0.96, 0.19, 0.29, 0.85, 0.95, 0.95, 1.  ,\n",
       "       0.78, 0.98, 1.  , 0.93, 0.95, 0.86, 0.9 , 0.32, 0.98, 0.98, 0.93,\n",
       "       0.92, 0.88, 0.92, 0.91, 0.97, 0.92, 0.98, 0.97, 0.28, 0.05, 0.91,\n",
       "       0.99, 0.98, 0.06, 0.93, 0.96, 0.9 , 1.  , 0.98, 0.31, 0.83, 0.82,\n",
       "       0.97, 0.67, 0.98, 0.88, 0.95, 0.86, 0.99, 0.09, 0.27, 0.71, 0.8 ,\n",
       "       0.99, 0.96, 0.98, 0.28, 0.21, 0.93, 0.12, 0.28, 0.42, 0.96, 0.9 ,\n",
       "       1.  , 0.99, 0.97, 0.82, 0.89, 0.23, 1.  , 0.04, 0.98, 0.35, 0.32,\n",
       "       0.94, 0.75, 0.85, 0.97, 0.9 , 0.82, 0.94, 0.36, 0.04, 0.89, 0.87,\n",
       "       0.84, 0.19, 0.94, 0.05, 0.95, 0.91, 0.9 , 0.23, 0.91, 0.36, 0.94,\n",
       "       0.91, 0.12, 0.99, 0.01, 0.11, 0.21, 0.93, 0.29, 1.  , 0.93, 0.12,\n",
       "       0.88, 0.83, 0.96, 0.8 , 0.25, 0.29, 0.97, 0.94, 0.39, 0.89, 0.85,\n",
       "       0.98, 0.21, 0.98, 0.7 , 0.25, 0.99, 0.95, 0.95, 0.95, 0.91, 0.89,\n",
       "       0.34, 0.19, 0.08, 0.91, 0.86, 0.99, 0.92, 0.27, 0.99, 0.06, 0.94,\n",
       "       0.03, 1.  , 0.94, 0.91, 0.91, 0.28, 0.28, 0.97, 0.79, 0.9 , 1.  ,\n",
       "       0.89, 0.92, 0.69, 0.98, 0.87, 0.21, 0.93, 0.83, 0.99, 0.93, 0.27,\n",
       "       0.86, 0.93, 0.95, 0.24, 0.89, 0.83, 0.93, 0.97, 0.05, 0.31, 0.87,\n",
       "       0.78, 0.03, 0.9 , 0.05, 0.3 , 0.24, 0.33, 0.91, 0.92, 0.25, 0.87,\n",
       "       0.93, 0.97, 0.99, 0.6 , 0.31, 0.88, 0.97, 0.92, 0.95, 1.  , 0.99,\n",
       "       0.99, 0.98, 0.97, 0.81, 0.87, 0.13, 1.  , 0.94, 0.86, 0.32, 0.91,\n",
       "       0.31, 0.97, 0.96, 0.87, 0.9 , 0.1 , 0.89, 0.11, 0.98, 0.92, 0.97,\n",
       "       0.8 , 0.27, 0.36, 0.08, 0.95, 0.93, 0.92, 0.95, 0.25, 0.88, 0.07,\n",
       "       0.16, 0.83, 0.98, 1.  , 0.83, 0.93, 0.24, 0.91, 0.99, 0.97, 0.81,\n",
       "       0.31, 0.99, 0.95, 0.83, 0.91, 0.87, 0.06, 0.67, 0.93, 0.2 , 0.91,\n",
       "       0.93, 0.97, 0.87, 0.84, 0.87, 0.95, 0.86, 0.95, 0.1 , 0.99, 0.26,\n",
       "       0.27, 0.94, 0.84, 0.89, 0.98, 0.05, 0.95, 0.78, 0.93, 0.88, 0.16,\n",
       "       0.96, 0.07, 0.99, 0.9 , 0.85, 0.3 , 0.04, 0.87, 0.34, 0.98, 0.86,\n",
       "       0.94, 0.93, 0.22, 0.27, 0.13, 0.98, 0.19, 0.87, 0.93, 0.92, 0.12,\n",
       "       0.93, 0.99, 0.95, 0.93, 0.22, 0.8 , 0.95, 0.82, 0.95, 0.85, 0.26,\n",
       "       0.92, 0.97, 0.07, 0.94, 0.81, 0.88, 0.94, 0.98, 0.95, 0.98, 0.97,\n",
       "       0.03, 0.99, 0.98, 0.05, 0.11, 0.2 , 0.83, 0.94, 0.33, 0.86, 0.91,\n",
       "       0.78, 0.13, 0.2 , 0.24, 0.69, 0.05, 0.96, 0.07, 0.98, 0.24, 0.22,\n",
       "       0.91, 0.99, 0.83, 0.07, 0.99, 0.1 , 0.94, 1.  , 0.21, 0.98, 0.93,\n",
       "       0.79, 0.94, 0.02, 0.84, 1.  , 0.82, 0.9 , 0.95, 0.96, 0.05, 0.82,\n",
       "       0.87, 0.91, 0.87, 0.83, 0.87, 0.89, 0.77, 0.31, 0.02, 0.25, 0.04,\n",
       "       0.95, 0.07, 0.69, 0.96, 0.99, 0.93, 0.32, 0.89, 0.33, 0.92, 0.93,\n",
       "       0.9 , 0.92, 0.04, 0.93, 0.1 , 0.9 , 0.91, 0.29, 0.95, 0.05, 0.94,\n",
       "       0.93, 0.91, 0.93, 0.97, 0.07, 0.96, 0.34, 0.78, 0.8 , 0.99, 0.94,\n",
       "       0.93, 0.89, 0.04, 0.24, 0.94, 0.22, 0.97, 0.95, 0.95, 0.89, 0.08,\n",
       "       0.95, 0.96, 0.86, 0.98, 0.16, 0.7 , 1.  , 0.95, 0.29, 0.96, 0.92,\n",
       "       0.88, 0.35, 0.96, 0.87, 0.44, 0.94, 0.89, 0.29, 0.21, 0.93, 0.87,\n",
       "       0.11, 0.21, 0.25, 0.97, 0.96, 0.91, 0.95, 0.27, 0.89, 0.97, 0.7 ,\n",
       "       0.92, 0.93, 0.86, 0.88, 0.03, 0.23, 0.95, 0.93, 0.8 , 0.97, 0.23,\n",
       "       0.96, 0.86, 0.07, 0.86, 0.9 , 0.97, 0.92, 0.32, 0.98, 0.06, 1.  ,\n",
       "       0.07, 0.94, 0.89, 0.02, 0.18, 0.99, 0.96, 0.91, 0.98, 0.94, 0.97,\n",
       "       0.94, 0.84, 0.92, 0.09, 0.86, 0.82, 0.13, 0.32, 0.04, 0.99, 0.12,\n",
       "       0.91, 0.26, 0.36, 0.98, 0.05, 0.88, 0.88, 0.9 , 0.93, 0.23, 0.98,\n",
       "       0.22, 0.09, 0.26, 0.99, 0.94, 0.88, 0.07, 0.93, 0.28, 0.87, 0.87,\n",
       "       0.82, 0.97, 0.34, 0.12, 0.91, 0.93, 0.22, 0.93, 0.88, 0.92, 0.9 ,\n",
       "       0.32, 0.82, 0.82, 0.91, 0.94, 0.92, 0.95, 0.97, 0.12])"
      ]
     },
     "execution_count": 21,
     "metadata": {},
     "output_type": "execute_result"
    }
   ],
   "source": [
    "scores"
   ]
  },
  {
   "cell_type": "code",
   "execution_count": 22,
   "id": "7eba8cde",
   "metadata": {},
   "outputs": [],
   "source": [
    "data2 = pd.read_csv('Test_Loan_Home.csv')"
   ]
  },
  {
   "cell_type": "code",
   "execution_count": 23,
   "id": "9b3b22d3",
   "metadata": {},
   "outputs": [],
   "source": [
    "scores = modelPipeline.predict_proba(data2[columnsX])[:,-1]"
   ]
  },
  {
   "cell_type": "code",
   "execution_count": null,
   "id": "9c78dd65",
   "metadata": {},
   "outputs": [],
   "source": [
    "scores"
   ]
  }
 ],
 "metadata": {
  "kernelspec": {
   "display_name": "Python 3 (ipykernel)",
   "language": "python",
   "name": "python3"
  },
  "language_info": {
   "codemirror_mode": {
    "name": "ipython",
    "version": 3
   },
   "file_extension": ".py",
   "mimetype": "text/x-python",
   "name": "python",
   "nbconvert_exporter": "python",
   "pygments_lexer": "ipython3",
   "version": "3.9.7"
  }
 },
 "nbformat": 4,
 "nbformat_minor": 5
}
